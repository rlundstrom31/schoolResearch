{
 "cells": [
  {
   "cell_type": "code",
   "execution_count": 7,
   "metadata": {},
   "outputs": [
    {
     "name": "stdout",
     "output_type": "stream",
     "text": [
      "6 0 5\n"
     ]
    }
   ],
   "source": [
    "# Python3 program to print Nth \n",
    "# term of Van Eck's sequence \n",
    "MAX = 1000\n",
    "sequence = [0] * (MAX + 1); \n",
    "\n",
    "# Utility function to compute \n",
    "# Van Eck's sequence \n",
    "def vanEckSequence() : \n",
    "\n",
    "\t# Initialize sequence array \n",
    "\tfor i in range(MAX) : \n",
    "\t\tsequence[i] = 0; \n",
    "\n",
    "\t# Loop to generate sequence \n",
    "\tfor i in range(MAX) : \n",
    "\t\t\n",
    "\t\t# Check if sequence[i] has occured \n",
    "\t\t# previousely or is new to sequence \n",
    "\t\tfor j in range(i - 1 , -1, -1) : \n",
    "\t\t\tif (sequence[j] == sequence[i]) : \n",
    "\n",
    "\t\t\t\t# If occurrence found \n",
    "\t\t\t\t# then the next term will be \n",
    "\t\t\t\t# how far back this last term \n",
    "\t\t\t\t# occured previousely \n",
    "\t\t\t\tsequence[i + 1] = i - j; \n",
    "\t\t\t\tbreak; \n",
    "\n",
    "# Utility function to return \n",
    "# Nth term of sequence \n",
    "def getNthTerm(n) : \n",
    "\n",
    "\treturn sequence[n]; \n",
    "\n",
    "# Pre-compute Van Eck's sequence \n",
    "vanEckSequence(); \n",
    "n = MAX - 1; \n",
    "print(getNthTerm(9), getNthTerm(10), getNthTerm(11)); "
   ]
  },
  {
   "cell_type": "code",
   "execution_count": 62,
   "metadata": {},
   "outputs": [
    {
     "ename": "NameError",
     "evalue": "name 'sage' is not defined",
     "output_type": "error",
     "traceback": [
      "\u001b[0;31m---------------------------------------------------------------------------\u001b[0m",
      "\u001b[0;31mNameError\u001b[0m                                 Traceback (most recent call last)",
      "\u001b[0;32m<ipython-input-62-8a611585952c>\u001b[0m in \u001b[0;36m<module>\u001b[0;34m()\u001b[0m\n\u001b[1;32m     12\u001b[0m         \u001b[0mlastSeen\u001b[0m\u001b[0;34m[\u001b[0m\u001b[0msequence\u001b[0m\u001b[0;34m[\u001b[0m\u001b[0mi\u001b[0m\u001b[0;34m]\u001b[0m\u001b[0;34m]\u001b[0m \u001b[0;34m=\u001b[0m \u001b[0mi\u001b[0m\u001b[0;34m\u001b[0m\u001b[0;34m\u001b[0m\u001b[0m\n\u001b[1;32m     13\u001b[0m     \u001b[0motherSequence\u001b[0m\u001b[0;34m[\u001b[0m\u001b[0mi\u001b[0m\u001b[0;34m]\u001b[0m \u001b[0;34m=\u001b[0m \u001b[0mi\u001b[0m \u001b[0;34m-\u001b[0m \u001b[0mmin\u001b[0m\u001b[0;34m(\u001b[0m\u001b[0mlastSeen\u001b[0m\u001b[0;34m.\u001b[0m\u001b[0mvalues\u001b[0m\u001b[0;34m(\u001b[0m\u001b[0;34m)\u001b[0m\u001b[0;34m)\u001b[0m\u001b[0;34m+\u001b[0m\u001b[0;36m1\u001b[0m\u001b[0;34m\u001b[0m\u001b[0;34m\u001b[0m\u001b[0m\n\u001b[0;32m---> 14\u001b[0;31m \u001b[0msage\u001b[0m\u001b[0;34m.\u001b[0m\u001b[0mplot\u001b[0m\u001b[0;34m.\u001b[0m\u001b[0mplot\u001b[0m\u001b[0;34m.\u001b[0m\u001b[0mlist_plot\u001b[0m\u001b[0;34m(\u001b[0m\u001b[0motherSequence\u001b[0m\u001b[0;34m)\u001b[0m\u001b[0;34m\u001b[0m\u001b[0;34m\u001b[0m\u001b[0m\n\u001b[0m\u001b[1;32m     15\u001b[0m \u001b[0mprint\u001b[0m\u001b[0;34m(\u001b[0m\u001b[0;34m\"done\"\u001b[0m\u001b[0;34m)\u001b[0m\u001b[0;34m\u001b[0m\u001b[0;34m\u001b[0m\u001b[0m\n",
      "\u001b[0;31mNameError\u001b[0m: name 'sage' is not defined"
     ]
    }
   ],
   "source": [
    "n = 10000\n",
    "lastSeen = dict()\n",
    "sequence = [0] * (n+1)\n",
    "otherSequence = [0] * (n+1)\n",
    "lastSeen[0] = 0\n",
    "otherSequence[0] = 1\n",
    "for i in range(1,n):\n",
    "    if sequence[i] in lastSeen.keys():\n",
    "        sequence[i+1] = i - lastSeen[sequence[i]]\n",
    "        lastSeen[sequence[i]] = i\n",
    "    else:\n",
    "        lastSeen[sequence[i]] = i\n",
    "    otherSequence[i] = i - min(lastSeen.values())+1\n",
    "sage.plot.plot.list_plot(otherSequence)\n",
    "print(\"done\")"
   ]
  },
  {
   "cell_type": "code",
   "execution_count": null,
   "metadata": {},
   "outputs": [
    {
     "name": "stdout",
     "output_type": "stream",
     "text": [
      "found 8 6\n",
      "found 49 35\n",
      "found 288 204\n",
      "found 1681 1189\n",
      "found 9800 6930\n"
     ]
    }
   ],
   "source": [
    "#matholger \"strand\" problem\n",
    "n = 50000\n",
    "for k in range(1,n+1):\n",
    "    leftSum = 0\n",
    "    rightSum = 0\n",
    "    for i in range(1,k+1):\n",
    "        rightSum = rightSum + i\n",
    "    for i in range(1,k+1):\n",
    "        if rightSum == leftSum:\n",
    "            print(\"found\", k, i-1)\n",
    "            break\n",
    "        leftSum = leftSum + i - 1\n",
    "        rightSum = rightSum - i"
   ]
  },
  {
   "cell_type": "code",
   "execution_count": 25,
   "metadata": {},
   "outputs": [
    {
     "name": "stdout",
     "output_type": "stream",
     "text": [
      "0.625 0.375\n"
     ]
    }
   ],
   "source": [
    "#an econ 467 hw problem\n",
    "rounds = 1000\n",
    "estP = 1\n",
    "estQ = 1\n",
    "pCount = 0\n",
    "qCount = 0\n",
    "player1Move = True #true is p, false is q\n",
    "player2Move = False\n",
    "\n",
    "for i in range(rounds):\n",
    "    if player1Move == True:\n",
    "        pCount = pCount + 1\n",
    "    if player2Move == True:\n",
    "        qCount = qCount + 1\n",
    "    estP = pCount /(i+1)\n",
    "    estQ = qCount/(i+1)\n",
    "    if estQ >= 3/8:\n",
    "        player1Move = True\n",
    "    else:\n",
    "        player1Move = False\n",
    "    if estP <= 5/8:\n",
    "        player2Move = False\n",
    "    else:\n",
    "        player2Move = True\n",
    "    \n",
    "print(estP, estQ)"
   ]
  }
 ],
 "metadata": {
  "kernelspec": {
   "display_name": "Python 3",
   "language": "python",
   "name": "python3"
  },
  "language_info": {
   "codemirror_mode": {
    "name": "ipython",
    "version": 3
   },
   "file_extension": ".py",
   "mimetype": "text/x-python",
   "name": "python",
   "nbconvert_exporter": "python",
   "pygments_lexer": "ipython3",
   "version": "3.7.3"
  }
 },
 "nbformat": 4,
 "nbformat_minor": 2
}
