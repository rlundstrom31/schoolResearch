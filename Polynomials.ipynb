{
 "cells": [
  {
   "cell_type": "code",
   "execution_count": 11,
   "metadata": {},
   "outputs": [
    {
     "data": {
      "text/plain": [
       "x^83 + x^82 + x^81 + 2*x^80 + 2*x^79 + 2*x^78 + 3*x^77 + 4*x^76 + 4*x^75 + 5*x^74 + 6*x^73 + 6*x^72 + 7*x^71 + 8*x^70 + 9*x^69 + 10*x^68 + 11*x^67 + 12*x^66 + 13*x^65 + 14*x^64 + 15*x^63 + 17*x^62 + 18*x^61 + 19*x^60 + 21*x^59 + 22*x^58 + 23*x^57 + 25*x^56 + 27*x^55 + 27*x^54 + 28*x^53 + 30*x^52 + 30*x^51 + 31*x^50 + 33*x^49 + 33*x^48 + 33*x^47 + 34*x^46 + 34*x^45 + 34*x^44 + 35*x^43 + 35*x^42 + 35*x^41 + 35*x^40 + 34*x^39 + 34*x^38 + 34*x^37 + 33*x^36 + 33*x^35 + 33*x^34 + 31*x^33 + 30*x^32 + 30*x^31 + 28*x^30 + 27*x^29 + 27*x^28 + 25*x^27 + 23*x^26 + 22*x^25 + 21*x^24 + 19*x^23 + 18*x^22 + 17*x^21 + 15*x^20 + 14*x^19 + 13*x^18 + 12*x^17 + 11*x^16 + 10*x^15 + 9*x^14 + 8*x^13 + 7*x^12 + 6*x^11 + 6*x^10 + 5*x^9 + 4*x^8 + 4*x^7 + 3*x^6 + 2*x^5 + 2*x^4 + 2*x^3 + x^2 + x + 1"
      ]
     },
     "execution_count": 11,
     "metadata": {},
     "output_type": "execute_result"
    }
   ],
   "source": [
    "R.<x> = PolynomialRing(QQ)\n",
    "(1+x+x^2+x^3+x^4+x^5+x^6+x^7+x^8+x^9+x^10+x^11+x^12+x^13+x^14+x^15+x^16+x^17+x^18+x^19+x^20+x^21+x^22+x^23+x^24+x^25+x^26+x^27+x^28)*(1+x^3+x^6+x^9+x^12+x^15+x^18+x^21+x^24+x^27)*(1+x^7+x^14+x^21+x^28)"
   ]
  }
 ],
 "metadata": {
  "kernelspec": {
   "display_name": "SageMath 9.0",
   "language": "sage",
   "name": "sagemath"
  },
  "language_info": {
   "codemirror_mode": {
    "name": "ipython",
    "version": 3
   },
   "file_extension": ".py",
   "mimetype": "text/x-python",
   "name": "python",
   "nbconvert_exporter": "python",
   "pygments_lexer": "ipython3",
   "version": "3.7.3"
  }
 },
 "nbformat": 4,
 "nbformat_minor": 2
}
