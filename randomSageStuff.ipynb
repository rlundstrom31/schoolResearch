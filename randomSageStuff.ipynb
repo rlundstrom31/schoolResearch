{
 "cells": [
  {
   "cell_type": "code",
   "execution_count": 1,
   "metadata": {},
   "outputs": [],
   "source": [
    "H = groups.matrix.Heisenberg(R=3)\n",
    "Helements = H.list()\n",
    "testList = [0]*27\n",
    "testList[0] = 1"
   ]
  },
  {
   "cell_type": "code",
   "execution_count": 4,
   "metadata": {},
   "outputs": [
    {
     "name": "stdout",
     "output_type": "stream",
     "text": [
      "[[1 0 0]\n",
      "[0 1 0]\n",
      "[0 0 1], [1 0 0]\n",
      "[0 1 1]\n",
      "[0 0 1], [1 0 0]\n",
      "[0 1 2]\n",
      "[0 0 1]] 3 3\n",
      "\n",
      "[[1 0 0]\n",
      "[0 1 0]\n",
      "[0 0 1], [1 0 1]\n",
      "[0 1 0]\n",
      "[0 0 1], [1 0 2]\n",
      "[0 1 0]\n",
      "[0 0 1]] 3 36\n",
      "\n",
      "[[1 0 0]\n",
      "[0 1 0]\n",
      "[0 0 1], [1 0 1]\n",
      "[0 1 2]\n",
      "[0 0 1], [1 0 2]\n",
      "[0 1 1]\n",
      "[0 0 1]] 3 80\n",
      "\n",
      "[[1 0 0]\n",
      "[0 1 0]\n",
      "[0 0 1], [1 0 1]\n",
      "[0 1 1]\n",
      "[0 0 1], [1 0 2]\n",
      "[0 1 2]\n",
      "[0 0 1]] 3 136\n",
      "\n",
      "[[1 0 0]\n",
      "[0 1 0]\n",
      "[0 0 1], [1 0 0]\n",
      "[0 1 1]\n",
      "[0 0 1], [1 0 0]\n",
      "[0 1 2]\n",
      "[0 0 1], [1 0 1]\n",
      "[0 1 0]\n",
      "[0 0 1], [1 0 1]\n",
      "[0 1 1]\n",
      "[0 0 1], [1 0 1]\n",
      "[0 1 2]\n",
      "[0 0 1], [1 0 2]\n",
      "[0 1 0]\n",
      "[0 0 1], [1 0 2]\n",
      "[0 1 1]\n",
      "[0 0 1], [1 0 2]\n",
      "[0 1 2]\n",
      "[0 0 1]] 9 255\n",
      "\n",
      "1000\n",
      "2000\n",
      "3000\n",
      "4000\n",
      "5000\n"
     ]
    },
    {
     "ename": "KeyboardInterrupt",
     "evalue": "",
     "output_type": "error",
     "traceback": [
      "\u001b[0;31m---------------------------------------------------------------------------\u001b[0m",
      "\u001b[0;31mKeyboardInterrupt\u001b[0m                         Traceback (most recent call last)",
      "\u001b[0;32m<ipython-input-4-26c2391988cd>\u001b[0m in \u001b[0;36m<module>\u001b[0;34m()\u001b[0m\n\u001b[1;32m     16\u001b[0m                 \u001b[0;32mif\u001b[0m \u001b[0misSubgroup\u001b[0m\u001b[0;34m:\u001b[0m\u001b[0;34m\u001b[0m\u001b[0;34m\u001b[0m\u001b[0m\n\u001b[1;32m     17\u001b[0m                     \u001b[0mchecker\u001b[0m \u001b[0;34m=\u001b[0m \u001b[0mpotential\u001b[0m\u001b[0;34m[\u001b[0m\u001b[0mi\u001b[0m\u001b[0;34m]\u001b[0m \u001b[0;34m*\u001b[0m \u001b[0mpotential\u001b[0m\u001b[0;34m[\u001b[0m\u001b[0mj\u001b[0m\u001b[0;34m]\u001b[0m\u001b[0;34m\u001b[0m\u001b[0;34m\u001b[0m\u001b[0m\n\u001b[0;32m---> 18\u001b[0;31m                     \u001b[0;32mif\u001b[0m \u001b[0mchecker\u001b[0m \u001b[0;32mnot\u001b[0m \u001b[0;32min\u001b[0m \u001b[0mpotential\u001b[0m\u001b[0;34m:\u001b[0m\u001b[0;34m\u001b[0m\u001b[0;34m\u001b[0m\u001b[0m\n\u001b[0m\u001b[1;32m     19\u001b[0m                         \u001b[0misSubgroup\u001b[0m \u001b[0;34m=\u001b[0m \u001b[0;32mFalse\u001b[0m\u001b[0;34m\u001b[0m\u001b[0;34m\u001b[0m\u001b[0m\n\u001b[1;32m     20\u001b[0m     \u001b[0;32mif\u001b[0m \u001b[0misSubgroup\u001b[0m\u001b[0;34m:\u001b[0m\u001b[0;34m\u001b[0m\u001b[0;34m\u001b[0m\u001b[0m\n",
      "\u001b[0;32m/opt/sagemath-9.0/local/lib/python3.7/site-packages/sage/structure/element.pyx\u001b[0m in \u001b[0;36msage.structure.element.Element.__richcmp__ (build/cythonized/sage/structure/element.c:9940)\u001b[0;34m()\u001b[0m\n\u001b[1;32m   1087\u001b[0m             \u001b[0;31m# an instance of Element. The explicit casts below make\u001b[0m\u001b[0;34m\u001b[0m\u001b[0;34m\u001b[0m\u001b[0;34m\u001b[0m\u001b[0m\n\u001b[1;32m   1088\u001b[0m             \u001b[0;31m# Cython generate optimized code for this call.\u001b[0m\u001b[0;34m\u001b[0m\u001b[0;34m\u001b[0m\u001b[0;34m\u001b[0m\u001b[0m\n\u001b[0;32m-> 1089\u001b[0;31m             \u001b[0;32mreturn\u001b[0m \u001b[0;34m(\u001b[0m\u001b[0;34m<\u001b[0m\u001b[0mElement\u001b[0m\u001b[0;34m>\u001b[0m\u001b[0mself\u001b[0m\u001b[0;34m)\u001b[0m\u001b[0;34m.\u001b[0m\u001b[0m_richcmp_\u001b[0m\u001b[0;34m(\u001b[0m\u001b[0mother\u001b[0m\u001b[0;34m,\u001b[0m \u001b[0mop\u001b[0m\u001b[0;34m)\u001b[0m\u001b[0;34m\u001b[0m\u001b[0;34m\u001b[0m\u001b[0m\n\u001b[0m\u001b[1;32m   1090\u001b[0m         \u001b[0;32melse\u001b[0m\u001b[0;34m:\u001b[0m\u001b[0;34m\u001b[0m\u001b[0;34m\u001b[0m\u001b[0m\n\u001b[1;32m   1091\u001b[0m             \u001b[0;32mreturn\u001b[0m \u001b[0mcoercion_model\u001b[0m\u001b[0;34m.\u001b[0m\u001b[0mrichcmp\u001b[0m\u001b[0;34m(\u001b[0m\u001b[0mself\u001b[0m\u001b[0;34m,\u001b[0m \u001b[0mother\u001b[0m\u001b[0;34m,\u001b[0m \u001b[0mop\u001b[0m\u001b[0;34m)\u001b[0m\u001b[0;34m\u001b[0m\u001b[0;34m\u001b[0m\u001b[0m\n",
      "\u001b[0;32m/opt/sagemath-9.0/local/lib/python3.7/site-packages/sage/groups/matrix_gps/group_element.pyx\u001b[0m in \u001b[0;36msage.groups.matrix_gps.group_element.MatrixGroupElement_gap._richcmp_ (build/cythonized/sage/groups/matrix_gps/group_element.c:7516)\u001b[0;34m()\u001b[0m\n\u001b[1;32m    562\u001b[0m             \u001b[0;32mFalse\u001b[0m\u001b[0;34m\u001b[0m\u001b[0;34m\u001b[0m\u001b[0m\n\u001b[1;32m    563\u001b[0m         \"\"\"\n\u001b[0;32m--> 564\u001b[0;31m         \u001b[0;32mreturn\u001b[0m \u001b[0mrichcmp\u001b[0m\u001b[0;34m(\u001b[0m\u001b[0mself\u001b[0m\u001b[0;34m.\u001b[0m\u001b[0mmatrix\u001b[0m\u001b[0;34m(\u001b[0m\u001b[0;34m)\u001b[0m\u001b[0;34m,\u001b[0m \u001b[0mother\u001b[0m\u001b[0;34m.\u001b[0m\u001b[0mmatrix\u001b[0m\u001b[0;34m(\u001b[0m\u001b[0;34m)\u001b[0m\u001b[0;34m,\u001b[0m \u001b[0mop\u001b[0m\u001b[0;34m)\u001b[0m\u001b[0;34m\u001b[0m\u001b[0;34m\u001b[0m\u001b[0m\n\u001b[0m\u001b[1;32m    565\u001b[0m \u001b[0;34m\u001b[0m\u001b[0m\n\u001b[1;32m    566\u001b[0m     \u001b[0;34m@\u001b[0m\u001b[0mcached_method\u001b[0m\u001b[0;34m\u001b[0m\u001b[0;34m\u001b[0m\u001b[0m\n",
      "\u001b[0;32m/opt/sagemath-9.0/local/lib/python3.7/site-packages/sage/misc/cachefunc.pyx\u001b[0m in \u001b[0;36msage.misc.cachefunc.CachedMethodCallerNoArgs.__call__ (build/cythonized/sage/misc/cachefunc.c:12712)\u001b[0;34m()\u001b[0m\n\u001b[1;32m   2308\u001b[0m         \u001b[0;32mif\u001b[0m \u001b[0mself\u001b[0m\u001b[0;34m.\u001b[0m\u001b[0mcache\u001b[0m \u001b[0;32mis\u001b[0m \u001b[0;32mNone\u001b[0m\u001b[0;34m:\u001b[0m\u001b[0;34m\u001b[0m\u001b[0;34m\u001b[0m\u001b[0m\n\u001b[1;32m   2309\u001b[0m             \u001b[0mf\u001b[0m \u001b[0;34m=\u001b[0m \u001b[0mself\u001b[0m\u001b[0;34m.\u001b[0m\u001b[0mf\u001b[0m\u001b[0;34m\u001b[0m\u001b[0;34m\u001b[0m\u001b[0m\n\u001b[0;32m-> 2310\u001b[0;31m             \u001b[0mself\u001b[0m\u001b[0;34m.\u001b[0m\u001b[0mcache\u001b[0m \u001b[0;34m=\u001b[0m \u001b[0mf\u001b[0m\u001b[0;34m(\u001b[0m\u001b[0mself\u001b[0m\u001b[0;34m.\u001b[0m\u001b[0m_instance\u001b[0m\u001b[0;34m)\u001b[0m\u001b[0;34m\u001b[0m\u001b[0;34m\u001b[0m\u001b[0m\n\u001b[0m\u001b[1;32m   2311\u001b[0m         \u001b[0;32mreturn\u001b[0m \u001b[0mself\u001b[0m\u001b[0;34m.\u001b[0m\u001b[0mcache\u001b[0m\u001b[0;34m\u001b[0m\u001b[0;34m\u001b[0m\u001b[0m\n\u001b[1;32m   2312\u001b[0m \u001b[0;34m\u001b[0m\u001b[0m\n",
      "\u001b[0;32m/opt/sagemath-9.0/local/lib/python3.7/site-packages/sage/groups/matrix_gps/group_element.pyx\u001b[0m in \u001b[0;36msage.groups.matrix_gps.group_element.MatrixGroupElement_gap.matrix (build/cythonized/sage/groups/matrix_gps/group_element.c:7702)\u001b[0;34m()\u001b[0m\n\u001b[1;32m    598\u001b[0m         \u001b[0;31m#   in order to use our current matrix space directly and avoid\u001b[0m\u001b[0;34m\u001b[0m\u001b[0;34m\u001b[0m\u001b[0;34m\u001b[0m\u001b[0m\n\u001b[1;32m    599\u001b[0m         \u001b[0;31m#   some overhead safety checks.\u001b[0m\u001b[0;34m\u001b[0m\u001b[0;34m\u001b[0m\u001b[0;34m\u001b[0m\u001b[0m\n\u001b[0;32m--> 600\u001b[0;31m         \u001b[0mentries\u001b[0m \u001b[0;34m=\u001b[0m \u001b[0mself\u001b[0m\u001b[0;34m.\u001b[0m\u001b[0mgap\u001b[0m\u001b[0;34m(\u001b[0m\u001b[0;34m)\u001b[0m\u001b[0;34m.\u001b[0m\u001b[0mFlat\u001b[0m\u001b[0;34m(\u001b[0m\u001b[0;34m)\u001b[0m\u001b[0;34m\u001b[0m\u001b[0;34m\u001b[0m\u001b[0m\n\u001b[0m\u001b[1;32m    601\u001b[0m         \u001b[0mMS\u001b[0m \u001b[0;34m=\u001b[0m \u001b[0mself\u001b[0m\u001b[0;34m.\u001b[0m\u001b[0mparent\u001b[0m\u001b[0;34m(\u001b[0m\u001b[0;34m)\u001b[0m\u001b[0;34m.\u001b[0m\u001b[0mmatrix_space\u001b[0m\u001b[0;34m(\u001b[0m\u001b[0;34m)\u001b[0m\u001b[0;34m\u001b[0m\u001b[0;34m\u001b[0m\u001b[0m\n\u001b[1;32m    602\u001b[0m         \u001b[0mring\u001b[0m \u001b[0;34m=\u001b[0m \u001b[0mMS\u001b[0m\u001b[0;34m.\u001b[0m\u001b[0mbase_ring\u001b[0m\u001b[0;34m(\u001b[0m\u001b[0;34m)\u001b[0m\u001b[0;34m\u001b[0m\u001b[0;34m\u001b[0m\u001b[0m\n",
      "\u001b[0;32m/opt/sagemath-9.0/local/lib/python3.7/site-packages/sage/libs/gap/element.pyx\u001b[0m in \u001b[0;36msage.libs.gap.element.GapElement.__getattr__ (build/cythonized/sage/libs/gap/element.c:8119)\u001b[0;34m()\u001b[0m\n\u001b[1;32m    734\u001b[0m         \u001b[0;32mtry\u001b[0m\u001b[0;34m:\u001b[0m\u001b[0;34m\u001b[0m\u001b[0;34m\u001b[0m\u001b[0m\n\u001b[1;32m    735\u001b[0m             \u001b[0mproxy\u001b[0m \u001b[0;34m=\u001b[0m \u001b[0mmake_GapElement_MethodProxy\u001b[0m\u001b[0;31m\\\u001b[0m\u001b[0;34m\u001b[0m\u001b[0;34m\u001b[0m\u001b[0m\n\u001b[0;32m--> 736\u001b[0;31m                 \u001b[0;34m(\u001b[0m\u001b[0mself\u001b[0m\u001b[0;34m.\u001b[0m\u001b[0mparent\u001b[0m\u001b[0;34m(\u001b[0m\u001b[0;34m)\u001b[0m\u001b[0;34m,\u001b[0m \u001b[0mgap_eval\u001b[0m\u001b[0;34m(\u001b[0m\u001b[0mname\u001b[0m\u001b[0;34m)\u001b[0m\u001b[0;34m,\u001b[0m \u001b[0mself\u001b[0m\u001b[0;34m)\u001b[0m\u001b[0;34m\u001b[0m\u001b[0;34m\u001b[0m\u001b[0m\n\u001b[0m\u001b[1;32m    737\u001b[0m         \u001b[0;32mexcept\u001b[0m \u001b[0mGAPError\u001b[0m\u001b[0;34m:\u001b[0m\u001b[0;34m\u001b[0m\u001b[0;34m\u001b[0m\u001b[0m\n\u001b[1;32m    738\u001b[0m             \u001b[0;32mraise\u001b[0m \u001b[0mAttributeError\u001b[0m\u001b[0;34m(\u001b[0m\u001b[0;34mf\"'{name}' is not defined in GAP\"\u001b[0m\u001b[0;34m)\u001b[0m\u001b[0;34m\u001b[0m\u001b[0;34m\u001b[0m\u001b[0m\n",
      "\u001b[0;32m/opt/sagemath-9.0/local/lib/python3.7/site-packages/sage/libs/gap/util.pyx\u001b[0m in \u001b[0;36msage.libs.gap.util.gap_eval (build/cythonized/sage/libs/gap/util.c:5985)\u001b[0;34m()\u001b[0m\n\u001b[1;32m    393\u001b[0m     \u001b[0;31m# its contents.\u001b[0m\u001b[0;34m\u001b[0m\u001b[0;34m\u001b[0m\u001b[0;34m\u001b[0m\u001b[0m\n\u001b[1;32m    394\u001b[0m     \u001b[0mcmd\u001b[0m \u001b[0;34m=\u001b[0m \u001b[0mstr_to_bytes\u001b[0m\u001b[0;34m(\u001b[0m\u001b[0mgap_string\u001b[0m \u001b[0;34m+\u001b[0m \u001b[0;34m';\\n'\u001b[0m\u001b[0;34m)\u001b[0m\u001b[0;34m\u001b[0m\u001b[0;34m\u001b[0m\u001b[0m\n\u001b[0;32m--> 395\u001b[0;31m     \u001b[0msig_on\u001b[0m\u001b[0;34m(\u001b[0m\u001b[0;34m)\u001b[0m\u001b[0;34m\u001b[0m\u001b[0;34m\u001b[0m\u001b[0m\n\u001b[0m\u001b[1;32m    396\u001b[0m     \u001b[0;32mtry\u001b[0m\u001b[0;34m:\u001b[0m\u001b[0;34m\u001b[0m\u001b[0;34m\u001b[0m\u001b[0m\n\u001b[1;32m    397\u001b[0m         \u001b[0mGAP_Enter\u001b[0m\u001b[0;34m(\u001b[0m\u001b[0;34m)\u001b[0m\u001b[0;34m\u001b[0m\u001b[0;34m\u001b[0m\u001b[0m\n",
      "\u001b[0;31mKeyboardInterrupt\u001b[0m: "
     ]
    }
   ],
   "source": [
    "for k in range(1,pow(2,26)+1):\n",
    "    testList[1] = testList[1] + 1\n",
    "    for i in range(1,26):\n",
    "        if testList[i] == 2:\n",
    "            testList[i] = 0\n",
    "            testList[i+1] = testList[i+1] + 1\n",
    "    potential = list()\n",
    "    for i in range(0, 27):\n",
    "        if testList[i] == 1:\n",
    "            potential.append(Helements[i])\n",
    "    subLength = len(potential)\n",
    "    isSubgroup = True\n",
    "    for i in range(0,subLength):\n",
    "        if isSubgroup:\n",
    "            for j in range(0,subLength):\n",
    "                if isSubgroup:\n",
    "                    checker = potential[i] * potential[j]\n",
    "                    if checker not in potential:\n",
    "                        isSubgroup = False\n",
    "    if isSubgroup:\n",
    "        print(potential, len(potential), k)\n",
    "        print()\n",
    "    if k % 1000 == 0:\n",
    "        print(k)"
   ]
  },
  {
   "cell_type": "code",
   "execution_count": 1,
   "metadata": {},
   "outputs": [
    {
     "name": "stdout",
     "output_type": "stream",
     "text": [
      "[-1  1| 0  0| 0  0]\n",
      "[ 0 -1| 0  0| 0  0]\n",
      "[-----+-----+-----]\n",
      "[ 0  0| 1  1| 0  0]\n",
      "[ 0  0| 0  1| 0  0]\n",
      "[-----+-----+-----]\n",
      "[ 0  0| 0  0| 1  1]\n",
      "[ 0  0| 0  0| 0  1]\n"
     ]
    }
   ],
   "source": [
    "t = var('t')\n",
    "A = matrix(PolynomialRing(QQ,'t'), [[0,-1,0,0,0,0],[1,2,0,0,0,0],[0,0,0,0,0,-1],[0,0,1,0,0,0],[0,0,0,1,0,2],[0,0,0,0,1,0]])\n",
    "K = A.smith_form()\n",
    "F = A.jordan_form()\n",
    "#G = A.rational_form()\n",
    "print(F)"
   ]
  },
  {
   "cell_type": "code",
   "execution_count": 48,
   "metadata": {},
   "outputs": [
    {
     "name": "stdout",
     "output_type": "stream",
     "text": [
      "[            1             0             0]\n",
      "[            0         t - 1             0]\n",
      "[            0             0 t^2 - 2*t + 1]\n"
     ]
    }
   ],
   "source": [
    "A = matrix(PolynomialRing(QQ,'t'), [[t+1,2,-6],[1,t,-3],[1,1,t-4]])\n",
    "K = A.smith_form()\n",
    "print(K[0])"
   ]
  },
  {
   "cell_type": "code",
   "execution_count": 3,
   "metadata": {},
   "outputs": [
    {
     "name": "stdout",
     "output_type": "stream",
     "text": [
      "x^3 - x^2 - x + 1\n",
      "\n",
      "[ 1| 0  0  0]\n",
      "[--+--------]\n",
      "[ 0| 0  0 -1]\n",
      "[ 0| 1  0  1]\n",
      "[ 0| 0  1  1]\n",
      "\n",
      "[-1| 0  0| 0]\n",
      "[--+-----+--]\n",
      "[ 0| 1  1| 0]\n",
      "[ 0| 0  1| 0]\n",
      "[--+-----+--]\n",
      "[ 0| 0  0| 1]\n"
     ]
    }
   ],
   "source": [
    "B = matrix(QQ, [[17,-8,-12,14],[46,-22,-35,41],[-2,1,4,-4],[4,-2,-2,3]])\n",
    "print(B.minimal_polynomial())\n",
    "print()\n",
    "print(B.rational_form())\n",
    "print()\n",
    "print(B.jordan_form())"
   ]
  },
  {
   "cell_type": "code",
   "execution_count": 5,
   "metadata": {},
   "outputs": [
    {
     "name": "stdout",
     "output_type": "stream",
     "text": [
      "x^2 - 2*x + 1\n",
      "\n",
      "[ 1| 0  0]\n",
      "[--+-----]\n",
      "[ 0| 0 -1]\n",
      "[ 0| 1  2]\n",
      "\n",
      "[1 1|0]\n",
      "[0 1|0]\n",
      "[---+-]\n",
      "[0 0|1]\n"
     ]
    }
   ],
   "source": [
    "B = matrix(QQ,[[-1,-2,6],[-1,0,3],[-1,-1,4]])\n",
    "print(B.minimal_polynomial())\n",
    "print()\n",
    "print(B.rational_form())\n",
    "print()\n",
    "print(B.jordan_form())"
   ]
  },
  {
   "cell_type": "code",
   "execution_count": 5,
   "metadata": {},
   "outputs": [
    {
     "name": "stdout",
     "output_type": "stream",
     "text": [
      "x^4 - 2*x^2 + 1\n",
      "\n",
      "[ 1| 0  0  0]\n",
      "[--+--------]\n",
      "[ 0| 0  0  1]\n",
      "[ 0| 1  0  1]\n",
      "[ 0| 0  1 -1]\n",
      "\n",
      "[ 1| 0| 0  0]\n",
      "[--+--+-----]\n",
      "[ 0| 1| 0  0]\n",
      "[--+--+-----]\n",
      "[ 0| 0|-1  1]\n",
      "[ 0| 0| 0 -1]\n"
     ]
    }
   ],
   "source": [
    "B = matrix(QQ,[[1,0,0,0],[0,1,0,0],[-2,-2,0,1],[-2,0,-1,-2]])\n",
    "print(B.characteristic_polynomial())\n",
    "print()\n",
    "print(B.rational_form())\n",
    "print()\n",
    "print(B.jordan_form())\n",
    "B."
   ]
  },
  {
   "cell_type": "code",
   "execution_count": 8,
   "metadata": {},
   "outputs": [
    {
     "name": "stdout",
     "output_type": "stream",
     "text": [
      "0 [[1, 1, 1], [2, 2], [3]] 10 6\n",
      "1 [[1, 1, 1], [2, 2], [4]] 11 5\n",
      "2 [[1, 1, 1], [2, 3], [3]] 11 5\n",
      "3 [[1, 1, 1], [2, 3], [4]] 12 4\n",
      "4 [[1, 1, 1], [2, 4], [3]] 12 5\n",
      "5 [[1, 1, 1], [2, 4], [4]] 13 4\n",
      "6 [[1, 1, 1], [3, 3], [4]] 13 3\n",
      "7 [[1, 1, 1], [3, 4], [4]] 14 3\n",
      "8 [[1, 1, 2], [2, 2], [3]] 11 5\n",
      "9 [[1, 1, 2], [2, 2], [4]] 12 4\n",
      "10 [[1, 1, 2], [2, 3], [3]] 12 4\n",
      "11 [[1, 1, 3], [2, 2], [3]] 12 5\n",
      "12 [[1, 1, 2], [2, 3], [4]] 13 3\n",
      "13 [[1, 1, 2], [2, 4], [3]] 13 4\n",
      "14 [[1, 1, 3], [2, 2], [4]] 13 4\n",
      "15 [[1, 1, 4], [2, 2], [3]] 13 5\n",
      "16 [[1, 1, 2], [2, 4], [4]] 14 3\n",
      "17 [[1, 1, 4], [2, 2], [4]] 14 4\n",
      "18 [[1, 1, 3], [2, 3], [3]] 13 4\n",
      "19 [[1, 1, 2], [3, 3], [4]] 14 2\n",
      "20 [[1, 1, 3], [2, 3], [4]] 14 3\n",
      "21 [[1, 1, 3], [2, 4], [3]] 14 4\n",
      "22 [[1, 1, 4], [2, 3], [3]] 14 4\n",
      "23 [[1, 1, 2], [3, 4], [4]] 15 2\n",
      "24 [[1, 1, 3], [2, 4], [4]] 15 3\n",
      "25 [[1, 1, 4], [2, 3], [4]] 15 3\n",
      "26 [[1, 1, 4], [2, 4], [3]] 15 4\n",
      "27 [[1, 1, 4], [2, 4], [4]] 16 3\n",
      "28 [[1, 1, 3], [3, 3], [4]] 15 2\n",
      "29 [[1, 1, 3], [3, 4], [4]] 16 2\n",
      "30 [[1, 1, 4], [3, 3], [4]] 16 2\n",
      "31 [[1, 1, 4], [3, 4], [4]] 17 2\n",
      "32 [[1, 2, 2], [2, 3], [3]] 13 3\n",
      "33 [[1, 2, 2], [2, 3], [4]] 14 2\n",
      "34 [[1, 2, 2], [2, 4], [3]] 14 3\n",
      "35 [[1, 2, 2], [2, 4], [4]] 15 2\n",
      "36 [[1, 2, 3], [2, 3], [3]] 14 3\n",
      "37 [[1, 2, 2], [3, 3], [4]] 15 1\n",
      "38 [[1, 2, 3], [2, 3], [4]] 15 2\n",
      "39 [[1, 2, 3], [2, 4], [3]] 15 3\n",
      "40 [[1, 2, 4], [2, 3], [3]] 15 3\n",
      "41 [[1, 2, 2], [3, 4], [4]] 16 1\n",
      "42 [[1, 2, 3], [2, 4], [4]] 16 2\n",
      "43 [[1, 2, 4], [2, 3], [4]] 16 2\n",
      "44 [[1, 2, 4], [2, 4], [3]] 16 3\n",
      "45 [[1, 2, 4], [2, 4], [4]] 17 2\n",
      "46 [[1, 2, 3], [3, 3], [4]] 16 1\n",
      "47 [[1, 3, 3], [2, 4], [3]] 16 3\n",
      "48 [[1, 2, 3], [3, 4], [4]] 17 1\n",
      "49 [[1, 2, 4], [3, 3], [4]] 17 1\n",
      "50 [[1, 3, 3], [2, 4], [4]] 17 2\n",
      "51 [[1, 3, 4], [2, 4], [3]] 17 3\n",
      "52 [[1, 2, 4], [3, 4], [4]] 18 1\n",
      "53 [[1, 3, 4], [2, 4], [4]] 18 2\n",
      "54 [[1, 3, 3], [3, 4], [4]] 18 1\n",
      "55 [[1, 3, 4], [3, 4], [4]] 19 1\n",
      "56 [[2, 2, 2], [3, 3], [4]] 16 0\n",
      "57 [[2, 2, 2], [3, 4], [4]] 17 0\n",
      "58 [[2, 2, 3], [3, 3], [4]] 17 0\n",
      "59 [[2, 2, 3], [3, 4], [4]] 18 0\n",
      "60 [[2, 2, 4], [3, 3], [4]] 18 0\n",
      "61 [[2, 2, 4], [3, 4], [4]] 19 0\n",
      "62 [[2, 3, 3], [3, 4], [4]] 19 0\n",
      "63 [[2, 3, 4], [3, 4], [4]] 20 0\n",
      "[8, 8, 14, 16, 11, 6, 1]\n"
     ]
    }
   ],
   "source": [
    "SST = SemistandardTableaux([3,2,1], max_entry = 4)\n",
    "K = SST.list()\n",
    "numPlacesArray = [0]*7\n",
    "for i in range(len(K)):\n",
    "    sumOfEntries = 0\n",
    "    numPlacesSame = 0\n",
    "    for j in range(len(K[i])):\n",
    "        for k in K[i][j]:\n",
    "            if k-1 == j:\n",
    "                numPlacesSame += 1\n",
    "            sumOfEntries += k\n",
    "    numPlacesArray[numPlacesSame] += 1\n",
    "    print(i, K[i], sumOfEntries, numPlacesSame)\n",
    "print(numPlacesArray)"
   ]
  },
  {
   "cell_type": "code",
   "execution_count": null,
   "metadata": {},
   "outputs": [],
   "source": [
    "SST = SemistandardTableaux([6,5,4,3,2,1], max_entry = 7)\n",
    "K = SST.list()\n",
    "numMappedTo = [0]*100\n",
    "for i in range(len(K)):\n",
    "    tab = K[i]\n",
    "    numHit = 0\n",
    "    for j in range(len(tab)):\n",
    "        row = tab[j]\n",
    "        rowHits = set()\n",
    "        for k in range(len(row)):\n",
    "            rowHits.add(row[k])\n",
    "        numHit = numHit + len(rowHits)\n",
    "        if j+1 in rowHits:\n",
    "            numHit = numHit -1\n",
    "    numMappedTo[numHit] = numMappedTo[numHit] + 1\n",
    "print(numMappedTo)"
   ]
  },
  {
   "cell_type": "code",
   "execution_count": null,
   "metadata": {},
   "outputs": [],
   "source": [
    "SST = SemistandardTableaux([6,5,4,3,2,1], max_entry = 7)\n",
    "K = SST.list()\n",
    "numMappedTo = [0]*200\n",
    "for i in range(len(K)):\n",
    "    tab = K[i]\n",
    "    sumOfEntries = 0\n",
    "    for j in range(len(tab)):\n",
    "        row = tab[j]\n",
    "        for k in range(len(row)):\n",
    "            sumOfEntries = sumOfEntries + row[k]\n",
    "    numMappedTo[sumOfEntries] = numMappedTo[sumOfEntries] + 1\n",
    "print(numMappedTo)"
   ]
  },
  {
   "cell_type": "code",
   "execution_count": null,
   "metadata": {},
   "outputs": [],
   "source": [
    "x = polygen(QQ, 'x');\n",
    "K.<z> = NumberField(x^4+x^2+2*x+1)\n",
    "G = K.galois_group(type='gap')\n",
    "print(G)"
   ]
  },
  {
   "cell_type": "code",
   "execution_count": null,
   "metadata": {},
   "outputs": [],
   "source": [
    "print(\"alive\")"
   ]
  },
  {
   "cell_type": "code",
   "execution_count": 33,
   "metadata": {},
   "outputs": [
    {
     "name": "stdout",
     "output_type": "stream",
     "text": [
      "[   1    0    0]\n",
      "[-2/5    1    0]\n",
      "[ 3/5 8/13    1]\n",
      "\n",
      "[   1/5   1/13  17/97]\n",
      "[     0   5/13  33/97]\n",
      "[     0      0 -13/97]\n"
     ]
    }
   ],
   "source": [
    "A = matrix(QQ,[[-2,3,5],[3,1,-1],[5,-1,4]])\n",
    "K = A.LU()\n",
    "print(K[1])\n",
    "print()\n",
    "print(K[2].inverse())"
   ]
  },
  {
   "cell_type": "code",
   "execution_count": 8,
   "metadata": {},
   "outputs": [
    {
     "name": "stdout",
     "output_type": "stream",
     "text": [
      "t^56 + 6*t^55 + 20*t^54 + 54*t^53 + 127*t^52 + 266*t^51 + 515*t^50 + 934*t^49 + 1597*t^48 + 2602*t^47 + 4062*t^46 + 6098*t^45 + 8842*t^44 + 12418*t^43 + 16926*t^42 + 22442*t^41 + 28995*t^40 + 36546*t^39 + 44999*t^38 + 54182*t^37 + 63841*t^36 + 73674*t^35 + 83322*t^34 + 92386*t^33 + 100479*t^32 + 107228*t^31 + 112300*t^30 + 115452*t^29 + 116524*t^28 + 115452*t^27 + 112300*t^26 + 107228*t^25 + 100479*t^24 + 92386*t^23 + 83322*t^22 + 73674*t^21 + 63841*t^20 + 54182*t^19 + 44999*t^18 + 36546*t^17 + 28995*t^16 + 22442*t^15 + 16926*t^14 + 12418*t^13 + 8842*t^12 + 6098*t^11 + 4062*t^10 + 2602*t^9 + 1597*t^8 + 934*t^7 + 515*t^6 + 266*t^5 + 127*t^4 + 54*t^3 + 20*t^2 + 6*t + 1\n"
     ]
    }
   ],
   "source": [
    "t = var('t')\n",
    "p = 1\n",
    "n = 6\n",
    "for k in range(1,n+1):\n",
    "    p = p * (1+t^k)^(n+1-k)\n",
    "print(p.expand())"
   ]
  },
  {
   "cell_type": "code",
   "execution_count": 43,
   "metadata": {
    "scrolled": true
   },
   "outputs": [
    {
     "name": "stdout",
     "output_type": "stream",
     "text": [
      "3\n",
      "[1, 3, 1, 0, 0, 0, 0, 0, 0, 0, 0, 0, 0, 0, 0, 0, 0, 0, 0, 0, 0, 0, 0, 0, 0, 0, 0, 0, 0, 0]\n"
     ]
    }
   ],
   "source": []
  },
  {
   "cell_type": "code",
   "execution_count": 36,
   "metadata": {
    "scrolled": true
   },
   "outputs": [
    {
     "name": "stdout",
     "output_type": "stream",
     "text": [
      "64\n"
     ]
    }
   ],
   "source": [
    "SST = SemistandardTableaux([6,3], max_entry = 3)\n",
    "K = SST.list()\n",
    "print(len(K))"
   ]
  }
 ],
 "metadata": {
  "kernelspec": {
   "display_name": "SageMath 9.0",
   "language": "sage",
   "name": "sagemath"
  },
  "language_info": {
   "codemirror_mode": {
    "name": "ipython",
    "version": 3
   },
   "file_extension": ".py",
   "mimetype": "text/x-python",
   "name": "python",
   "nbconvert_exporter": "python",
   "pygments_lexer": "ipython3",
   "version": "3.7.3"
  }
 },
 "nbformat": 4,
 "nbformat_minor": 2
}
